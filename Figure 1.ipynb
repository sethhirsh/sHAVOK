{
 "cells": [
  {
   "cell_type": "code",
   "execution_count": 1,
   "metadata": {},
   "outputs": [],
   "source": [
    "import numpy as np\n",
    "import matplotlib.pyplot as plt\n",
    "from scipy.integrate import ode\n",
    "from matplotlib.colors import LinearSegmentedColormap\n",
    "from mpl_toolkits.mplot3d import Axes3D\n",
    "from numpy import sin\n",
    "%matplotlib inline"
   ]
  },
  {
   "cell_type": "code",
   "execution_count": 2,
   "metadata": {},
   "outputs": [],
   "source": [
    "def create_cmap(color1, color2, color3):\n",
    "    colors = [color1, color2, color3]\n",
    "    cmap_name = 'list'\n",
    "    n_bins = 100\n",
    "    cmap = LinearSegmentedColormap.from_list(cmap_name, colors, N=n_bins)\n",
    "    return cmap\n",
    "\n",
    "def build_hankel(data, rows, cols):\n",
    "    X = np.empty((rows, cols))\n",
    "    for k in range(rows):\n",
    "        X[k, :] = data[k:cols + k]\n",
    "    return X \n",
    "\n",
    "def HAVOK(X, dt, r, norm, center=False, return_uv=False):\n",
    "    if (center): \n",
    "        m = X.shape[0]\n",
    "        X̄ = X - X[m//2,:]\n",
    "        U, Σ, Vh = np.linalg.svd(X̄,full_matrices=False)\n",
    "    else:\n",
    "        U, Σ, Vh = np.linalg.svd(X,full_matrices=False)\n",
    "    V = Vh.T\n",
    "    polys = true_polys(X.shape[0], dt, r, center)\n",
    "    for _i in range(r):\n",
    "        if (np.dot(U[:,_i], polys[:,_i]) < 0):\n",
    "            U[:,_i] *= -1\n",
    "            V[:,_i] *= -1\n",
    "    V1 = V[:-1,:r]\n",
    "    V2 = V[1:,:r]\n",
    "    A = (V2.T @ np.linalg.pinv(V1.T) - np.eye(r)) / (norm * dt)\n",
    "    if (return_uv): \n",
    "        return A, U, V\n",
    "    return A\n",
    "\n",
    "def true_polys(rows, dt, r, center): \n",
    "    m = rows // 2\n",
    "    Ut = np.linspace(-m*dt, m*dt, rows)\n",
    "    poly_stack = []\n",
    "    for j in range(r):\n",
    "        if (center):\n",
    "            poly_stack.append(Ut ** (j + 1))\n",
    "        else: \n",
    "            poly_stack.append(Ut ** j)\n",
    "    poly_stack = np.vstack(poly_stack).T\n",
    "    Q = np.empty((rows, r)) # Perform Gram-Schmidt\n",
    "    for j in range(r): \n",
    "        v = poly_stack[:, j]\n",
    "        for k in range(j - 1): \n",
    "            r_jk = Q[:, k].T @ poly_stack[:, j]\n",
    "            v -= (r_jk * Q[:, k])\n",
    "        r_jj = np.linalg.norm(v)\n",
    "        Q[:, j] = v / r_jj\n",
    "    return Q"
   ]
  },
  {
   "cell_type": "code",
   "execution_count": 3,
   "metadata": {},
   "outputs": [
    {
     "data": {
      "image/png": "[encoded data removed]",
      "text/plain": [
       "<Figure size 432x288 with 1 Axes>"
      ]
     },
     "metadata": {},
     "output_type": "display_data"
    }
   ],
   "source": [
    "# Linear dynamics\n",
    "np.random.seed(4)\n",
    "plt.figure()\n",
    "vals = np.array([1, 2, 3, 4, 5, 6, 7, 8])\n",
    "plt.imshow(np.diag(vals,1) + np.diag(-vals,-1), cmap=create_cmap('tab:blue','white','tab:orange'))\n",
    "plt.xticks([])\n",
    "plt.yticks([])\n",
    "plt.axis('off')\n",
    "plt.savefig('pdf_files/fig1a.pdf', bbox_inches='tight')"
   ]
  },
  {
   "cell_type": "code",
   "execution_count": 4,
   "metadata": {},
   "outputs": [],
   "source": [
    "# Apply HAVOK to time series x(t) = sin(t) + sin(2t)\n",
    "ϵ = 10\n",
    "t = np.linspace(0, ϵ, 10001)\n",
    "dt = t[1] - t[0]\n",
    "rows = 41\n",
    "cols = t.size - rows + 1\n",
    "X = build_hankel(sin(t) + sin(2 * t), rows, cols)  \n",
    "A, U, V = HAVOK(X, dt, 4, 1, center=True, return_uv=True)"
   ]
  },
  {
   "cell_type": "code",
   "execution_count": 5,
   "metadata": {},
   "outputs": [
    {
     "data": {
      "image/png": "[encoded data removed]",
      "text/plain": [
       "<Figure size 468x288 with 1 Axes>"
      ]
     },
     "metadata": {},
     "output_type": "display_data"
    }
   ],
   "source": [
    "# Plot the Orthogonal Polynomials and the Frenet Serret Frame\n",
    "plt.figure(figsize=(6.5,4))\n",
    "\n",
    "# Orthogonal Polynomials \n",
    "#plt.subplot(2, 1, 1)\n",
    "#plt.title('Orthogonal Polynomials', fontsize=16)\n",
    "colors = ['peru','tab:green','tab:purple','darkcyan']\n",
    "labels = [r'$p_1$',r'$p_2$',r'$p_3$',r'$p_4$']\n",
    "for i in range(3):\n",
    "    plt.plot(U[:,i], colors[i], label=labels[i], linewidth=8)\n",
    "#plt.legend(bbox_to_anchor=(1.02, 1.0), loc='upper left', fontsize=14)\n",
    "plt.xticks([])\n",
    "plt.yticks([])\n",
    "plt.axis('off')\n",
    "plt.savefig('pdf_files/fig1b.pdf',bbox_inches = \"tight\")"
   ]
  },
  {
   "cell_type": "code",
   "execution_count": null,
   "metadata": {},
   "outputs": [],
   "source": []
  }
 ],
 "metadata": {
  "kernelspec": {
   "display_name": "Python 3",
   "language": "python",
   "name": "python3"
  },
  "language_info": {
   "codemirror_mode": {
    "name": "ipython",
    "version": 3
   },
   "file_extension": ".py",
   "mimetype": "text/x-python",
   "name": "python",
   "nbconvert_exporter": "python",
   "pygments_lexer": "ipython3",
   "version": "3.7.1"
  }
 },
 "nbformat": 4,
 "nbformat_minor": 2
}
