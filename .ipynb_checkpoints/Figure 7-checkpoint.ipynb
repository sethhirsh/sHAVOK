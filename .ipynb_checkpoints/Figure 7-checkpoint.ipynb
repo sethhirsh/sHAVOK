{
 "cells": [
  {
   "cell_type": "code",
   "execution_count": 1,
   "metadata": {},
   "outputs": [],
   "source": [
    "import numpy as np\n",
    "import matplotlib.pyplot as plt\n",
    "from matplotlib.colors import LinearSegmentedColormap\n",
    "%matplotlib inline"
   ]
  },
  {
   "cell_type": "code",
   "execution_count": 2,
   "metadata": {},
   "outputs": [],
   "source": [
    "def create_cmap(color1, color2, color3):\n",
    "    colors = [color1, color2, color3]\n",
    "    cmap_name = 'list'\n",
    "    n_bins = 100\n",
    "    cmap = LinearSegmentedColormap.from_list(cmap_name, colors, N=n_bins)\n",
    "    return cmap"
   ]
  },
  {
   "cell_type": "code",
   "execution_count": 3,
   "metadata": {},
   "outputs": [
    {
     "data": {
      "image/png": "[encoded data removed]",
      "text/plain": [
       "<Figure size 432x288 with 1 Axes>"
      ]
     },
     "metadata": {},
     "output_type": "display_data"
    },
    {
     "data": {
      "image/png": "[encoded data removed]",
      "text/plain": [
       "<Figure size 432x288 with 1 Axes>"
      ]
     },
     "metadata": {},
     "output_type": "display_data"
    }
   ],
   "source": [
    "# Linear dynamics\n",
    "np.random.seed(4)\n",
    "plt.figure()\n",
    "vals = np.array([1, 2, 3, 4, 5, 6, 7, 8])\n",
    "plt.imshow(np.diag(vals,1) + np.diag(-vals,-1), cmap=create_cmap('tab:blue','white','tab:orange'))\n",
    "plt.xticks([])\n",
    "plt.yticks([])\n",
    "plt.savefig('pdf_files/fig2c.pdf', bbox_inches='tight')\n",
    "\n",
    "# Forcing \n",
    "np.random.seed(4)\n",
    "plt.figure()\n",
    "a = np.zeros(9)\n",
    "a[-1] = 10\n",
    "plt.imshow(a[:,np.newaxis], cmap=create_cmap('white','tab:blue','tab:orange'))\n",
    "plt.xticks([])\n",
    "plt.yticks([])\n",
    "plt.savefig('pdf_files/fig2d.pdf', bbox_inches='tight')"
   ]
  }
 ],
 "metadata": {
  "kernelspec": {
   "display_name": "Python 3",
   "language": "python",
   "name": "python3"
  },
  "language_info": {
   "codemirror_mode": {
    "name": "ipython",
    "version": 3
   },
   "file_extension": ".py",
   "mimetype": "text/x-python",
   "name": "python",
   "nbconvert_exporter": "python",
   "pygments_lexer": "ipython3",
   "version": "3.7.1"
  }
 },
 "nbformat": 4,
 "nbformat_minor": 2
}
